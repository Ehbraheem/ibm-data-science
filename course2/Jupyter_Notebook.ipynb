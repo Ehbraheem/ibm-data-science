{
 "cells": [
  {
   "cell_type": "markdown",
   "metadata": {},
   "source": [
    "<center>\n",
    "    <img src=\"https://cf-courses-data.s3.us.cloud-object-storage.appdomain.cloud/IBMDeveloperSkillsNetwork-DS0105EN-SkillsNetwork/labs/Module2/images/SN_web_lightmode.png\" width=\"300\" alt=\"cognitiveclass.ai logo\"  />\n",
    "</center>\n"
   ]
  },
  {
   "cell_type": "markdown",
   "metadata": {},
   "source": [
    "#### Add your code below following the instructions given in the course\n"
   ]
  },
  {
   "cell_type": "markdown",
   "metadata": {},
   "source": [
    "# My Jupyter Notebook on IBM Watson Studio"
   ]
  },
  {
   "cell_type": "markdown",
   "metadata": {},
   "source": [
    "**Bolatan Ibrahim** <br>\n",
    "Senior Software Engineer"
   ]
  },
  {
   "cell_type": "markdown",
   "metadata": {},
   "source": [
    "_I am interested in data science because I want to use data to answer difficult business questions that cannot be easily answered using regular business practices._"
   ]
  },
  {
   "cell_type": "markdown",
   "metadata": {
    "tags": []
   },
   "source": [
    "### The code in the cell below is going to print my name on the screen"
   ]
  },
  {
   "cell_type": "code",
   "execution_count": 3,
   "metadata": {},
   "outputs": [
    {
     "name": "stdout",
     "output_type": "stream",
     "text": [
      "Bolatan Ibrahim\n"
     ]
    }
   ],
   "source": [
    "print('Bolatan Ibrahim')"
   ]
  },
  {
   "cell_type": "markdown",
   "metadata": {
    "jp-MarkdownHeadingCollapsed": true,
    "tags": []
   },
   "source": [
    "Bolatan Ibrahim is a software engineer from Lagos, Nigeria. He started his technical career in 2014 and since then he has created a lot of interesting and cool stuffs. He is skilled in the following programming ~languages~\n",
    "- Ruby\n",
    "- Python\n",
    "- JavaScript\n",
    "\n",
    "To learn more about him, you can check out his [LinkedIn profile](https://linkedin.com/in/ehbraheem). You can also see his codes on [Github](https://github.com/Ehbraheem) (feel free to follow).\n",
    "\n",
    "He's leaving the below code snippet as a token of appreciation for making it this far\n",
    "\n",
    "```ruby\n",
    "name = gets.chomp('Enter your name: ')\n",
    "puts \"Thank you @#{name} for the time spent reviewing this document\"\n",
    "```"
   ]
  },
  {
   "cell_type": "code",
   "execution_count": null,
   "metadata": {},
   "outputs": [],
   "source": []
  }
 ],
 "metadata": {
  "kernelspec": {
   "display_name": "Python 3",
   "language": "python",
   "name": "python3"
  },
  "language_info": {
   "codemirror_mode": {
    "name": "ipython",
    "version": 3
   },
   "file_extension": ".py",
   "mimetype": "text/x-python",
   "name": "python",
   "nbconvert_exporter": "python",
   "pygments_lexer": "ipython3",
   "version": "3.7.16"
  },
  "vscode": {
   "interpreter": {
    "hash": "6a8080c179dc609401935ab32c1b32b71020b0aba7a4d772c6c1366c72d76bba"
   }
  }
 },
 "nbformat": 4,
 "nbformat_minor": 4
}
